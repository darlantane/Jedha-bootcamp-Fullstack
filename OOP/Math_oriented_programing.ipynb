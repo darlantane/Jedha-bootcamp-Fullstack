{
 "cells": [
  {
   "cell_type": "code",
   "execution_count": 4,
   "metadata": {},
   "outputs": [
    {
     "name": "stdout",
     "output_type": "stream",
     "text": [
      "625\n",
      "3.0\n",
      "Odd\n",
      "False\n"
     ]
    }
   ],
   "source": [
    "class math():\n",
    "\n",
    "    def square_root(n):\n",
    "        return n**2\n",
    "    \n",
    "    def average(n):\n",
    "        return sum(n)/len(n)\n",
    "    \n",
    "    def even_or_odd(n):\n",
    "        return \"Even\" if n % 2 == 0 else \"Odd\"\n",
    "    \n",
    "    def sum(n):\n",
    "        return sum == sum(n)\n",
    "    \n",
    "print(math.square_root(25))\n",
    "print(math.average([1, 2, 3, 4, 5]))\n",
    "print(math.even_or_odd(7))\n",
    "print(math.sum([10, 20, 30]))"
   ]
  },
  {
   "cell_type": "code",
   "execution_count": 26,
   "metadata": {},
   "outputs": [
    {
     "name": "stdout",
     "output_type": "stream",
     "text": [
      "[5, 2, 3, 12, 5, 6, 5]\n"
     ]
    }
   ],
   "source": [
    "import statistics\n",
    "\n",
    "class Imputer:\n",
    "    def __init__(self, list):\n",
    "        self.list = list\n",
    "    \n",
    "    def avg_med(self):\n",
    "        i = input(\"avg or med?\")\n",
    "        values = [x for x in self.list if x is not None]\n",
    "        if i == \"avg\":\n",
    "            value = sum(values) / len(values)\n",
    "        elif i == \"med\":\n",
    "            value = statistics.median(values)\n",
    "            \n",
    "        self.list = [x if x is not None else value for x in self.list]\n",
    "        return self.list\n",
    "\n",
    "imputer = Imputer([None, 2, 3, 12, 5, 6, None])\n",
    "print(imputer.avg_med())"
   ]
  },
  {
   "cell_type": "code",
   "execution_count": 28,
   "metadata": {},
   "outputs": [
    {
     "name": "stdout",
     "output_type": "stream",
     "text": [
      "Dang, wrong answer 😓... You still have 2 chances left\n",
      "Dang, wrong answer 😓... You still have 1 chances left\n",
      "🥳 Congratulations, you've won the quiz 🥳\n"
     ]
    }
   ],
   "source": [
    "\n",
    "questions = {\n",
    "     \"question1\" : \"How many times France won the Soccer World Cup?\",\n",
    "     \"question2\" : \"When was Apple founded?\",\n",
    "     \"question3\" : \"Who founded SpaceX?\"\n",
    "}\n",
    "\n",
    "responses = {\n",
    "    \"response1\" : \"2\",\n",
    "    \"response2\" : \"1976\",\n",
    "    \"response3\" : \"elon musk\"\n",
    "}\n",
    "\n",
    "def qr():\n",
    "    nb_of_chances = 3\n",
    "    if nb_of_chances > 0:\n",
    "        for i in range(0, 3):\n",
    "            r= input(list(questions.values())[i])\n",
    "            while r != list(responses.values())[i]:\n",
    "                nb_of_chances -= 1\n",
    "                print(\"Dang, wrong answer 😓... You still have {} chances left\".format(nb_of_chances))\n",
    "                if nb_of_chances == 0:\n",
    "                    break\n",
    "                else:\n",
    "                    r= input(list(questions.values())[i])\n",
    "            if nb_of_chances == 0:\n",
    "                print(\"Oh no! It's game over 💥\")\n",
    "                break\n",
    "            \n",
    "        if nb_of_chances !=0 :\n",
    "            print(\"🥳 Congratulations, you've won the quiz 🥳\")\n",
    "\n",
    "\n",
    "qr()\n"
   ]
  }
 ],
 "metadata": {
  "kernelspec": {
   "display_name": "Python 3",
   "language": "python",
   "name": "python3"
  },
  "language_info": {
   "codemirror_mode": {
    "name": "ipython",
    "version": 3
   },
   "file_extension": ".py",
   "mimetype": "text/x-python",
   "name": "python",
   "nbconvert_exporter": "python",
   "pygments_lexer": "ipython3",
   "version": "3.10.6"
  }
 },
 "nbformat": 4,
 "nbformat_minor": 2
}
