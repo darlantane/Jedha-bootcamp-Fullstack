{
 "cells": [
  {
   "cell_type": "code",
   "execution_count": null,
   "metadata": {},
   "outputs": [],
   "source": [
    "import Pandas as pd\n",
    "\n",
    "data = pd_read.csv(“...”)\n",
    "data.head()"
   ]
  },
  {
   "cell_type": "code",
   "execution_count": null,
   "metadata": {},
   "outputs": [],
   "source": [
    "# informations générales\n",
    "data.info()\n",
    "data.describe()\n",
    "\n",
    "# valeurs manquantes\n",
    "data.isnull().sum()\n",
    "\n",
    "# Remplacement des valeurs manquantes\n",
    "data[‘...’].fillna(data[‘...’].median, inplace = True)\n",
    "\n",
    "# Encodage des variables catégoriques\n",
    "data[‘...’] = pd.get_dummies(data[‘...’], drop_first=True)\n",
    "\n",
    "# Suppression des colonnes inutiles\n",
    "data = data.drop([‘...’], axis=1)"
   ]
  },
  {
   "cell_type": "code",
   "execution_count": null,
   "metadata": {},
   "outputs": [],
   "source": [
    "from sklearn.model_selection import train_test_split\n",
    "\n",
    "X = data[‘...’]\n",
    "y = data[‘...]\n",
    "\n",
    "X_train, X_test, y_train, y_test = train_test_split(X, Y, test_size = 0.2, random_size = 42)\n",
    "\n",
    "print(X_train.shape, X_test.shape)"
   ]
  },
  {
   "cell_type": "code",
   "execution_count": null,
   "metadata": {},
   "outputs": [],
   "source": [
    "# On importe tout\n",
    "from sklearn.impute import SimpleImputer\n",
    "from sklearn.preprocessing import OneHotEncoder, StandardScaler\n",
    "from sklearn.pipeline import Pipeline\n",
    "from sklearn.compose import ColumnTransformer\n",
    "\n",
    "# Je fais des listes de features numériques et catégorielles\n",
    "numeric_features = X_train.select_dtypes(include='number').columns.tolist()\n",
    "categoric_features = X_train.select_dtypes(include='object').columns.tolist()\n",
    "\n",
    "# Je crée un pipeline qui remplace des valeurs manquantes ET PUIS les standardise\n",
    "numeric_pipeline = Pipeline(steps=[\n",
    "  ('numeric_imputer', SimpleImputer(strategy='median')),\n",
    "  ('numeric_scaler', StandardScaler())\n",
    "])\n",
    "\n",
    "# Je crée un pipeline qui remplace des valeurs manquantes ET PUIS les encode\n",
    "categoric_pipeline = Pipeline(steps=[\n",
    "  ('categoric_imputer', SimpleImputer(strategy='constant', fill_value='Unknown')),\n",
    "  ('categoric_encoder', OneHotEncoder(drop='first'))\n",
    "])\n",
    "\n",
    "# Je combine mes Pipelines ensemble dans mon ColumnTransformer\n",
    "feature_encoder = ColumnTransformer(transformers=[\n",
    "  ('num', numeric_pipeline, numeric_features),\n",
    "  ('cat', categoric_pipeline, categoric_features)\n",
    "])\n",
    "\n",
    "feature_encoder.fit(X_train)\n",
    "\n",
    "X_train = feature_encoder.transform(X_train)\n",
    "X_test = feature_encoder.transform(X_test)"
   ]
  },
  {
   "cell_type": "code",
   "execution_count": null,
   "metadata": {},
   "outputs": [],
   "source": [
    "from sklearn.linear_model import LogisticRegression\n",
    "\n",
    "model = LogisticRegression(random_state=0)\n",
    "model.fit(X_train, y_train)\n",
    "\n",
    "y_train_pred = model.predict(X_train)\n",
    "y_test_pred = model.predict(X_test)\n",
    "\n",
    "print(y_train_pred[0:5])\n",
    "print(y_test_pred[0:5])"
   ]
  },
  {
   "cell_type": "code",
   "execution_count": null,
   "metadata": {},
   "outputs": [],
   "source": [
    "from sklearn.metrics import accuracy_score\n",
    "print(accuracy_score(Y_test, Y_pred)\n",
    "\n",
    "#or\n",
    "\n",
    "a = model.score(X_train, y_train)\n",
    "b = model.score(X_test, y_test)\n",
    "\n",
    "print(a, b)"
   ]
  },
  {
   "cell_type": "code",
   "execution_count": null,
   "metadata": {},
   "outputs": [],
   "source": [
    "a = input(“...”)\n",
    "b = input(“...”)\n",
    "…\n",
    "\n",
    "Z = pd.Dataframe([{\n",
    "\t“a” = a,\n",
    "\t“b” = b,\n",
    "\t…\n",
    "}])\n",
    "\n",
    "Z_pred = model.predict(Z)\n",
    "print(Z_pred)\n",
    "\n",
    "Z_pred_proba = model.predict_proba(Z)\n",
    "print(Z_pred_proba)\n"
   ]
  }
 ],
 "metadata": {
  "kernelspec": {
   "display_name": "base",
   "language": "python",
   "name": "python3"
  },
  "language_info": {
   "name": "python",
   "version": "3.9.7"
  }
 },
 "nbformat": 4,
 "nbformat_minor": 2
}
