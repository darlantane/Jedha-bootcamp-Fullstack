{
 "cells": [
  {
   "cell_type": "code",
   "execution_count": 1,
   "metadata": {},
   "outputs": [
    {
     "name": "stdout",
     "output_type": "stream",
     "text": [
      "Access granted!\n"
     ]
    }
   ],
   "source": [
    "correct_password = \"mypassword\"\n",
    "\n",
    "user_input = \"\"\n",
    "\n",
    "while user_input != correct_password:\n",
    "    user_input = input(\"Enter the password: \")\n",
    "    \n",
    "    if user_input != correct_password:\n",
    "        print(\"Incorrect password. Try again.\")\n",
    "\n",
    "print(\"Access granted!\")"
   ]
  },
  {
   "cell_type": "code",
   "execution_count": 2,
   "metadata": {},
   "outputs": [
    {
     "name": "stdout",
     "output_type": "stream",
     "text": [
      "Good job!\n",
      "Good job!\n",
      "Good job!\n"
     ]
    }
   ],
   "source": [
    "def quiz():\n",
    "    questions = [\n",
    "        {\"question\": \"What is the capital of Colombia?\", \"answer\": \"Bogota\"},\n",
    "        {\"question\": \"What is 6 * 7?\", \"answer\": \"42\"},\n",
    "        {\"question\": \"Which planet is known as the Green Planet?\", \"answer\": \"Namek\"}\n",
    "    ]\n",
    "    \n",
    "    for q in questions:\n",
    "        answer = input(q[\"question\"] + \" \")\n",
    "        if answer == q[\"answer\"]:\n",
    "            print(\"Good job!\")\n",
    "        else:\n",
    "            print(\"Bad answer!\")\n",
    "\n",
    "quiz()\n"
   ]
  },
  {
   "cell_type": "code",
   "execution_count": 3,
   "metadata": {},
   "outputs": [
    {
     "name": "stdout",
     "output_type": "stream",
     "text": [
      "Good job!\n",
      "Good job!\n",
      "Good job!\n"
     ]
    }
   ],
   "source": [
    "def quiz():\n",
    "    questions = [\n",
    "        {\"question\": \"What is the capital of Colombia?\", \"answer\": \"Bogota\"},\n",
    "        {\"question\": \"What is 6 * 7?\", \"answer\": \"42\"},\n",
    "        {\"question\": \"Which planet is known as the Green Planet?\", \"answer\": \"Namek\"}\n",
    "    ] \n",
    "\n",
    "    for q in questions:\n",
    "        while True:\n",
    "            answer = input(q[\"question\"] + \" \")\n",
    "            if answer == q[\"answer\"]:\n",
    "                print(\"Good job!\")\n",
    "                break\n",
    "            else:\n",
    "                print(\"Bad answer!\")\n",
    "\n",
    "quiz()"
   ]
  },
  {
   "cell_type": "code",
   "execution_count": 4,
   "metadata": {},
   "outputs": [
    {
     "name": "stdout",
     "output_type": "stream",
     "text": [
      "Hello\n",
      "I\n",
      "Michel\n",
      "am\n",
      "Hello\n",
      "I\n",
      "am\n",
      "Michel\n"
     ]
    }
   ],
   "source": [
    "michel = [\"Hello\", \"I\", \"Michel\", \"am\"]\n",
    "\n",
    "for word in michel:\n",
    "    print(word)\n",
    "\n",
    "michel[-1], michel[-2] = michel[-2], michel[-1]\n",
    "\n",
    "for word in michel:\n",
    "    print(word)"
   ]
  },
  {
   "cell_type": "code",
   "execution_count": 5,
   "metadata": {},
   "outputs": [
    {
     "name": "stdout",
     "output_type": "stream",
     "text": [
      "[9, 12, 16, 34, 58]\n"
     ]
    }
   ],
   "source": [
    "age = [12, 16, 34, 58, 9]\n",
    "\n",
    "age.sort()\n",
    "\n",
    "print(age)"
   ]
  },
  {
   "cell_type": "code",
   "execution_count": 6,
   "metadata": {},
   "outputs": [
    {
     "name": "stdout",
     "output_type": "stream",
     "text": [
      "Average: 156.0\n",
      "New average: 36.0\n"
     ]
    }
   ],
   "source": [
    "kilometres = [50, 10, 100, 25, 1000, 21, 12, 30]\n",
    "\n",
    "total_km = sum(kilometres)\n",
    "average_km = total_km / len(kilometres)\n",
    "\n",
    "print(\"Average:\", average_km)\n",
    "\n",
    "kilometres = [50, 10, 100, 25, 21, 12, 30, 40]  \n",
    "\n",
    "new_total_km = sum(kilometres)\n",
    "new_average_km = new_total_km / len(kilometres)\n",
    "\n",
    "print(\"New average:\", new_average_km)"
   ]
  },
  {
   "cell_type": "code",
   "execution_count": 7,
   "metadata": {},
   "outputs": [
    {
     "name": "stdout",
     "output_type": "stream",
     "text": [
      "5.0\n"
     ]
    }
   ],
   "source": [
    "def sqrt(nb):\n",
    "    return nb ** 0.5\n",
    "\n",
    "result = sqrt(25)\n",
    "print(result)"
   ]
  }
 ],
 "metadata": {
  "kernelspec": {
   "display_name": "Python 3",
   "language": "python",
   "name": "python3"
  },
  "language_info": {
   "codemirror_mode": {
    "name": "ipython",
    "version": 3
   },
   "file_extension": ".py",
   "mimetype": "text/x-python",
   "name": "python",
   "nbconvert_exporter": "python",
   "pygments_lexer": "ipython3",
   "version": "3.9.7"
  }
 },
 "nbformat": 4,
 "nbformat_minor": 2
}
