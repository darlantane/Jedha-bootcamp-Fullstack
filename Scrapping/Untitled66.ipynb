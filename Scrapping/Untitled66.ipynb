{
 "cells": [
  {
   "cell_type": "code",
   "execution_count": 2,
   "id": "2289981b-9628-430e-afd3-3fd2d74def2e",
   "metadata": {},
   "outputs": [],
   "source": [
    "import pandas as pd\n",
    "import os\n",
    "import logging\n",
    "import scrapy\n",
    "from scrapy.crawler import CrawlerProcess"
   ]
  },
  {
   "cell_type": "code",
   "execution_count": 3,
   "id": "767f2b25-e426-40ec-91fe-2f5f11b9ec7d",
   "metadata": {},
   "outputs": [],
   "source": [
    "class imdb_spider(scrapy.Spider):\n",
    "    name = \"imdb_film\"\n",
    "    start_urls = [\"https://www.imdb.com/chart/top\"]\n",
    "\n",
    "    def parse(self, response):\n",
    "\n",
    "        nombre_de_film = 25\n",
    "        imdb = response.css(\"div.ipc-metadata-list-summary-item__c\")\n",
    "        logging.info(f\"OOOOOOOOOO  {len(imdb)} OOOOOOOOOOOOOO\")\n",
    "\n",
    "        for film in range(nombre_de_film):\n",
    "            \n",
    "            film_info = imdb[film]\n",
    "\n",
    "            yield {\n",
    "                \"ranking\" : film+1,\n",
    "                \"title\":film_info.css(\"h3.ipc-title__text::text\").get(),\n",
    "                \"url\":film_info.css(\"a.ipc-title-link-wrapper::attr(href)\").get(),\n",
    "                \"rating\":film_info.css(\"span.ipc-rating-star--rating::text\").get(),\n",
    "                \"nb_vote\":film_info.css(\"span.ipc-rating-star--voteCount::text\").getall()\n",
    "            }"
   ]
  },
  {
   "cell_type": "code",
   "execution_count": 4,
   "id": "13864d71-a808-4da1-947e-b0a73101bdd6",
   "metadata": {},
   "outputs": [],
   "source": [
    "filename = \"films.json\"\n",
    "\n",
    "if filename in os.listdir(\"/Users/Julien/Downloads/\"):\n",
    "    os.remove(\"/Users/Julien/Downloads/\" + filename)"
   ]
  },
  {
   "cell_type": "code",
   "execution_count": 5,
   "id": "1262932d-5230-4d02-a07a-81530e861d92",
   "metadata": {},
   "outputs": [
    {
     "name": "stderr",
     "output_type": "stream",
     "text": [
      "2025-02-21 16:05:44 [scrapy.utils.log] INFO: Scrapy 2.12.0 started (bot: scrapybot)\n",
      "2025-02-21 16:05:44 [scrapy.utils.log] INFO: Versions: lxml 5.3.0.0, libxml2 2.13.5, cssselect 1.2.0, parsel 1.8.1, w3lib 2.1.2, Twisted 23.10.0, Python 3.11.7 (main, Dec 15 2023, 12:09:04) [Clang 14.0.6 ], pyOpenSSL 24.2.1 (OpenSSL 3.0.15 3 Sep 2024), cryptography 43.0.3, Platform macOS-10.16-x86_64-i386-64bit\n"
     ]
    }
   ],
   "source": [
    "process = CrawlerProcess(settings={\n",
    "    'USER_AGENT': 'Mozilla/4.0',\n",
    "    'LOG_LEVEL':logging.INFO,\n",
    "    \"FEEDS\":{\n",
    "        \"/Users/Julien/Downloads/\" + filename : {\"format\":\"json\"}\n",
    "    }\n",
    "}\n",
    "    \n",
    ")"
   ]
  },
  {
   "cell_type": "code",
   "execution_count": 6,
   "id": "dca7ef22-fd00-4d82-9cd4-d17156af1cbe",
   "metadata": {},
   "outputs": [
    {
     "name": "stderr",
     "output_type": "stream",
     "text": [
      "2025-02-21 16:05:44 [scrapy.addons] INFO: Enabled addons:\n",
      "[]\n",
      "2025-02-21 16:05:44 [scrapy.extensions.telnet] INFO: Telnet Password: bb275d05afec3bca\n",
      "2025-02-21 16:05:44 [scrapy.middleware] INFO: Enabled extensions:\n",
      "['scrapy.extensions.corestats.CoreStats',\n",
      " 'scrapy.extensions.telnet.TelnetConsole',\n",
      " 'scrapy.extensions.memusage.MemoryUsage',\n",
      " 'scrapy.extensions.feedexport.FeedExporter',\n",
      " 'scrapy.extensions.logstats.LogStats']\n",
      "2025-02-21 16:05:44 [scrapy.crawler] INFO: Overridden settings:\n",
      "{'LOG_LEVEL': 20, 'USER_AGENT': 'Mozilla/4.0'}\n",
      "2025-02-21 16:05:44 [scrapy.middleware] INFO: Enabled downloader middlewares:\n",
      "['scrapy.downloadermiddlewares.offsite.OffsiteMiddleware',\n",
      " 'scrapy.downloadermiddlewares.httpauth.HttpAuthMiddleware',\n",
      " 'scrapy.downloadermiddlewares.downloadtimeout.DownloadTimeoutMiddleware',\n",
      " 'scrapy.downloadermiddlewares.defaultheaders.DefaultHeadersMiddleware',\n",
      " 'scrapy.downloadermiddlewares.useragent.UserAgentMiddleware',\n",
      " 'scrapy.downloadermiddlewares.retry.RetryMiddleware',\n",
      " 'scrapy.downloadermiddlewares.redirect.MetaRefreshMiddleware',\n",
      " 'scrapy.downloadermiddlewares.httpcompression.HttpCompressionMiddleware',\n",
      " 'scrapy.downloadermiddlewares.redirect.RedirectMiddleware',\n",
      " 'scrapy.downloadermiddlewares.cookies.CookiesMiddleware',\n",
      " 'scrapy.downloadermiddlewares.httpproxy.HttpProxyMiddleware',\n",
      " 'scrapy.downloadermiddlewares.stats.DownloaderStats']\n",
      "2025-02-21 16:05:44 [scrapy.middleware] INFO: Enabled spider middlewares:\n",
      "['scrapy.spidermiddlewares.httperror.HttpErrorMiddleware',\n",
      " 'scrapy.spidermiddlewares.referer.RefererMiddleware',\n",
      " 'scrapy.spidermiddlewares.urllength.UrlLengthMiddleware',\n",
      " 'scrapy.spidermiddlewares.depth.DepthMiddleware']\n",
      "2025-02-21 16:05:44 [scrapy.middleware] INFO: Enabled item pipelines:\n",
      "[]\n",
      "2025-02-21 16:05:44 [scrapy.core.engine] INFO: Spider opened\n",
      "2025-02-21 16:05:44 [scrapy.extensions.logstats] INFO: Crawled 0 pages (at 0 pages/min), scraped 0 items (at 0 items/min)\n",
      "2025-02-21 16:05:44 [scrapy.extensions.telnet] INFO: Telnet console listening on 127.0.0.1:6023\n",
      "2025-02-21 16:05:46 [root] INFO: OOOOOOOOOO  25 OOOOOOOOOOOOOO\n",
      "2025-02-21 16:05:46 [scrapy.core.engine] INFO: Closing spider (finished)\n",
      "2025-02-21 16:05:46 [scrapy.extensions.feedexport] INFO: Stored json feed (25 items) in: /Users/Julien/Downloads/films.json\n",
      "2025-02-21 16:05:46 [scrapy.statscollectors] INFO: Dumping Scrapy stats:\n",
      "{'downloader/request_bytes': 417,\n",
      " 'downloader/request_count': 2,\n",
      " 'downloader/request_method_count/GET': 2,\n",
      " 'downloader/response_bytes': 298592,\n",
      " 'downloader/response_count': 2,\n",
      " 'downloader/response_status_count/200': 1,\n",
      " 'downloader/response_status_count/308': 1,\n",
      " 'elapsed_time_seconds': 1.559632,\n",
      " 'feedexport/success_count/FileFeedStorage': 1,\n",
      " 'finish_reason': 'finished',\n",
      " 'finish_time': datetime.datetime(2025, 2, 21, 15, 5, 46, 358911, tzinfo=datetime.timezone.utc),\n",
      " 'httpcompression/response_bytes': 1583965,\n",
      " 'httpcompression/response_count': 1,\n",
      " 'item_scraped_count': 25,\n",
      " 'items_per_minute': None,\n",
      " 'log_count/INFO': 12,\n",
      " 'memusage/max': 172232704,\n",
      " 'memusage/startup': 172232704,\n",
      " 'response_received_count': 1,\n",
      " 'responses_per_minute': None,\n",
      " 'scheduler/dequeued': 2,\n",
      " 'scheduler/dequeued/memory': 2,\n",
      " 'scheduler/enqueued': 2,\n",
      " 'scheduler/enqueued/memory': 2,\n",
      " 'start_time': datetime.datetime(2025, 2, 21, 15, 5, 44, 799279, tzinfo=datetime.timezone.utc)}\n",
      "2025-02-21 16:05:46 [scrapy.core.engine] INFO: Spider closed (finished)\n"
     ]
    }
   ],
   "source": [
    "process.crawl(imdb_spider)\n",
    "process.start()"
   ]
  },
  {
   "cell_type": "code",
   "execution_count": null,
   "id": "71c3ff41-2af6-43a4-b5bb-04de6dcf7c3e",
   "metadata": {},
   "outputs": [],
   "source": []
  }
 ],
 "metadata": {
  "kernelspec": {
   "display_name": "Python 3 (ipykernel)",
   "language": "python",
   "name": "python3"
  },
  "language_info": {
   "codemirror_mode": {
    "name": "ipython",
    "version": 3
   },
   "file_extension": ".py",
   "mimetype": "text/x-python",
   "name": "python",
   "nbconvert_exporter": "python",
   "pygments_lexer": "ipython3",
   "version": "3.11.7"
  }
 },
 "nbformat": 4,
 "nbformat_minor": 5
}
