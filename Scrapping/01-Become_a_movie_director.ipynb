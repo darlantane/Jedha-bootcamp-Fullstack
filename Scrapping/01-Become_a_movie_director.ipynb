{
 "cells": [
  {
   "cell_type": "markdown",
   "metadata": {
    "colab_type": "text",
    "id": "hRObT5dxtgu0"
   },
   "source": [
    "# Become a movie director\n",
    "\n",
    "To begin your journey as a data-savvy movie director 🕵️‍♀️🎥, we’ll use `Scrapy` to fetch data about the top movies from [IMDb](https://www.imdb.com/chart/top/)!\n",
    "\n",
    "1. Install Scrapy using pip and import scrapy and CrawlerProcess"
   ]
  },
  {
   "cell_type": "markdown",
   "metadata": {},
   "source": [
    "2. Create a folder where you will store the scripts and results of this exercise. Create a file named `imdb1.py` in that folder."
   ]
  },
  {
   "cell_type": "markdown",
   "metadata": {},
   "source": [
    "3. Start by writing code in the script to:\n",
    "* import os, logging, scrapy, and CrawlerProcess from scrapy.crawler"
   ]
  },
  {
   "cell_type": "markdown",
   "metadata": {},
   "source": [
    "4. Create a first spider called `imdb_spider` with:\n",
    "* name `imdb`\n",
    "* start_urls `https://www.imdb.com/chart/top`\n",
    "\n",
    "This spider should scrape the `ranking`, the `title`, the `url`, the `rating` and the `number of voters` for the first **25 movies** of the charts.\n",
    "\n",
    "Set up the `CrawlerProcess`.\n",
    "Save the results to a `imdb.json` file.\n",
    "\n",
    "## Part 2 - Optional 💪💪\n",
    "5. Based on the results obtained, create a list called `url_list` containing all the urls for the movies in the charts.\n",
    "\n",
    "⚠️ Note\n",
    "\n",
    "If you were unable to complete the previous part, don’t worry! \n",
    "\n",
    "You can still proceed by using the `url_list.txt` file provided in the resources folder. 👉\n",
    "\n",
    "This file contains a pre-defined list of URLs that you can work with for the next steps. \n",
    "\n",
    "6. Scrape all the pages from the movies in the charts and extract the complete cast, the Storyline, and the tags, also save the title and url for future joins purposes.\n",
    "\n",
    "⚠️ pay attention to inconsistencies between pages"
   ]
  },
  {
   "attachments": {},
   "cell_type": "markdown",
   "metadata": {},
   "source": []
  }
 ],
 "metadata": {
  "colab": {
   "name": "02-Become_movie_director_solutions.ipynb",
   "provenance": []
  },
  "kernelspec": {
   "display_name": "Python 3",
   "language": "python",
   "name": "python3"
  },
  "language_info": {
   "codemirror_mode": {
    "name": "ipython",
    "version": 3
   },
   "file_extension": ".py",
   "mimetype": "text/x-python",
   "name": "python",
   "nbconvert_exporter": "python",
   "pygments_lexer": "ipython3",
   "version": "3.13.0"
  }
 },
 "nbformat": 4,
 "nbformat_minor": 4
}
