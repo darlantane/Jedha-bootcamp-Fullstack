{
 "cells": [
  {
   "cell_type": "code",
   "execution_count": null,
   "id": "2289981b-9628-430e-afd3-3fd2d74def2e",
   "metadata": {},
   "outputs": [],
   "source": [
    "import pandas as pd\n",
    "import os\n",
    "import logging\n",
    "import scrapy\n",
    "from scrapy.crawler import CrawlerProcess"
   ]
  },
  {
   "cell_type": "code",
   "execution_count": null,
   "id": "767f2b25-e426-40ec-91fe-2f5f11b9ec7d",
   "metadata": {},
   "outputs": [],
   "source": [
    "class imdb_spider(scrapy.Spider):\n",
    "    name = \"imdb_film\"\n",
    "    start_urls = [\"https://www.imdb.com/chart/top\"]\n",
    "\n",
    "    def parse(self, response):\n",
    "\n",
    "        nombre_de_film = 25\n",
    "        imdb = response.css(\"div.ipc-metadata-list-summary-item__c\")\n",
    "        logging.info(f\"OOOOOOOOOO  {len(imdb)} OOOOOOOOOOOOOO\")\n",
    "\n",
    "        for film in range(nombre_de_film):\n",
    "            \n",
    "            film_info = imdb[film]\n",
    "\n",
    "            titre_et_notre = film_info.css(\"h3.ipc-title__text::text\").get()\n",
    "            ranking, title = titre_et_notre.split(\" \", maxsplit=1)\n",
    "            ranking = ranking[:-1]\n",
    "\n",
    "            yield {\n",
    "                \"ranking\" : ranking,\n",
    "                \"title\":title,\n",
    "                \"url\":film_info.css(\"a.ipc-title-link-wrapper::attr(href)\").get(),\n",
    "                \"rating\":film_info.css(\"span.ipc-rating-star--rating::text\").get(),\n",
    "                \"nb_vote\":film_info.css(\"span.ipc-rating-star--voteCount::text\").getall()[1]\n",
    "            }"
   ]
  },
  {
   "cell_type": "code",
   "execution_count": null,
   "id": "13864d71-a808-4da1-947e-b0a73101bdd6",
   "metadata": {},
   "outputs": [],
   "source": [
    "filename = \"films.json\"\n",
    "\n",
    "if filename in os.listdir(\"/Users/Julien/Downloads/\"):\n",
    "    os.remove(\"/Users/Julien/Downloads/\" + filename)"
   ]
  },
  {
   "cell_type": "code",
   "execution_count": null,
   "id": "1262932d-5230-4d02-a07a-81530e861d92",
   "metadata": {},
   "outputs": [],
   "source": [
    "process = CrawlerProcess(settings={\n",
    "    'USER_AGENT': 'Mozilla/4.0',\n",
    "    'LOG_LEVEL':logging.INFO,\n",
    "    \"FEEDS\":{\n",
    "        \"/Users/Julien/Downloads/\" + filename : {\"format\":\"json\"}\n",
    "    }\n",
    "}\n",
    "    \n",
    ")"
   ]
  },
  {
   "cell_type": "code",
   "execution_count": null,
   "id": "dca7ef22-fd00-4d82-9cd4-d17156af1cbe",
   "metadata": {},
   "outputs": [],
   "source": [
    "process.crawl(imdb_spider)\n",
    "process.start()"
   ]
  },
  {
   "cell_type": "code",
   "execution_count": null,
   "id": "71c3ff41-2af6-43a4-b5bb-04de6dcf7c3e",
   "metadata": {},
   "outputs": [],
   "source": [
    "pd.read_json(filename)"
   ]
  },
  {
   "cell_type": "code",
   "execution_count": null,
   "id": "d5de0d88-ed1f-45af-b65c-3fdb785efd7a",
   "metadata": {},
   "outputs": [],
   "source": [
    "prob_titre = \"1. The Shawshank Redemption\""
   ]
  },
  {
   "cell_type": "code",
   "execution_count": null,
   "id": "160c1e3a-7bef-4cdb-8adc-06628225a424",
   "metadata": {},
   "outputs": [],
   "source": [
    "prob_titre[3:]"
   ]
  },
  {
   "cell_type": "code",
   "execution_count": null,
   "id": "1bbe13c9-12d4-4cde-be03-ea30c10197e9",
   "metadata": {},
   "outputs": [],
   "source": [
    "prob_titre_25 = \"25. City of God\"\n",
    "prob_titre_25[3:]"
   ]
  },
  {
   "cell_type": "code",
   "execution_count": null,
   "id": "1778ac07-cfd2-4882-982b-7ecc4f52d698",
   "metadata": {},
   "outputs": [],
   "source": [
    "prob_titre"
   ]
  },
  {
   "cell_type": "code",
   "execution_count": null,
   "id": "b846494e-025d-43b3-8462-38d914ef51db",
   "metadata": {},
   "outputs": [],
   "source": [
    "numero, nom_de_film = prob_titre.split(\" \", maxsplit=1)"
   ]
  },
  {
   "cell_type": "code",
   "execution_count": null,
   "id": "8d266d04-9e32-470c-adf6-a59cad6792a6",
   "metadata": {},
   "outputs": [],
   "source": [
    "numero, nom_de_film = splot_prob_titre"
   ]
  },
  {
   "cell_type": "code",
   "execution_count": null,
   "id": "13918fda-66e0-4634-839f-91b28cfaabd7",
   "metadata": {},
   "outputs": [],
   "source": [
    "numero[:-1]"
   ]
  },
  {
   "cell_type": "code",
   "execution_count": null,
   "id": "aa2448dd-9bed-4ea7-8f67-d355bf63eaf6",
   "metadata": {},
   "outputs": [],
   "source": [
    "nom_de_film"
   ]
  },
  {
   "cell_type": "code",
   "execution_count": null,
   "id": "3572cd07-56f5-4f00-9e17-5aaedb3a29a9",
   "metadata": {},
   "outputs": [],
   "source": [
    "numero"
   ]
  },
  {
   "cell_type": "code",
   "execution_count": null,
   "id": "bde76e1d-95de-46e6-9f2d-fb51caf4b5eb",
   "metadata": {},
   "outputs": [],
   "source": [
    "nom_de_film"
   ]
  },
  {
   "cell_type": "code",
   "execution_count": null,
   "id": "c1c60468-820e-4c2e-8c3f-6b38b564bad0",
   "metadata": {},
   "outputs": [],
   "source": [
    "base_url = \"https://www.imdb.com\"\n",
    "next_url = \"/title/tt0111161/?ref_=chttp_t_1\""
   ]
  },
  {
   "cell_type": "code",
   "execution_count": null,
   "id": "f90e64ff-54c2-4919-a7dd-1c58277dd06d",
   "metadata": {},
   "outputs": [],
   "source": [
    "url_complete = base_url + next_url\n",
    "url_complete"
   ]
  },
  {
   "cell_type": "code",
   "execution_count": null,
   "id": "ff0b9bf3-9f7d-4b8d-91cc-6d84acc3c833",
   "metadata": {},
   "outputs": [],
   "source": []
  }
 ],
 "metadata": {
  "kernelspec": {
   "display_name": "base",
   "language": "python",
   "name": "python3"
  },
  "language_info": {
   "codemirror_mode": {
    "name": "ipython",
    "version": 3
   },
   "file_extension": ".py",
   "mimetype": "text/x-python",
   "name": "python",
   "nbconvert_exporter": "python",
   "pygments_lexer": "ipython3",
   "version": "3.12.7"
  }
 },
 "nbformat": 4,
 "nbformat_minor": 5
}
