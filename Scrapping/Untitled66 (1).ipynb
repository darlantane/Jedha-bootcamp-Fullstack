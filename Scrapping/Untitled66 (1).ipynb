{
 "cells": [
  {
   "cell_type": "code",
   "execution_count": 1,
   "id": "2289981b-9628-430e-afd3-3fd2d74def2e",
   "metadata": {},
   "outputs": [],
   "source": [
    "import pandas as pd\n",
    "import os\n",
    "import logging\n",
    "import scrapy\n",
    "from scrapy.crawler import CrawlerProcess"
   ]
  },
  {
   "cell_type": "code",
   "execution_count": 2,
   "id": "767f2b25-e426-40ec-91fe-2f5f11b9ec7d",
   "metadata": {},
   "outputs": [],
   "source": [
    "class imdb_spider(scrapy.Spider):\n",
    "    name = \"imdb_film\"\n",
    "    start_urls = [\"https://www.imdb.com/chart/top\"]\n",
    "\n",
    "    def parse(self, response):\n",
    "\n",
    "        nombre_de_film = 25\n",
    "        imdb = response.css(\"div.ipc-metadata-list-summary-item__c\")\n",
    "        logging.info(f\"OOOOOOOOOO  {len(imdb)} OOOOOOOOOOOOOO\")\n",
    "\n",
    "        for film in range(nombre_de_film):\n",
    "            \n",
    "            film_info = imdb[film]\n",
    "\n",
    "            titre_et_notre = film_info.css(\"h3.ipc-title__text::text\").get()\n",
    "            ranking, title = titre_et_notre.split(\" \", maxsplit=1)\n",
    "            ranking = ranking[:-1]\n",
    "\n",
    "            yield {\n",
    "                \"ranking\" : ranking,\n",
    "                \"title\":title,\n",
    "                \"url\":film_info.css(\"a.ipc-title-link-wrapper::attr(href)\").get(),\n",
    "                \"rating\":film_info.css(\"span.ipc-rating-star--rating::text\").get(),\n",
    "                \"nb_vote\":film_info.css(\"span.ipc-rating-star--voteCount::text\").getall()[1]\n",
    "            }"
   ]
  },
  {
   "cell_type": "code",
   "execution_count": 3,
   "id": "13864d71-a808-4da1-947e-b0a73101bdd6",
   "metadata": {},
   "outputs": [],
   "source": [
    "filename = \"films.json\"\n",
    "\n",
    "if filename in os.listdir(\"src/\"):\n",
    "    os.remove(\"src/\" + filename)"
   ]
  },
  {
   "cell_type": "code",
   "execution_count": 4,
   "id": "1262932d-5230-4d02-a07a-81530e861d92",
   "metadata": {},
   "outputs": [
    {
     "name": "stderr",
     "output_type": "stream",
     "text": [
      "2025-02-24 10:00:20 [scrapy.utils.log] INFO: Scrapy 2.11.1 started (bot: scrapybot)\n",
      "2025-02-24 10:00:20 [scrapy.utils.log] INFO: Versions: lxml 5.3.1.0, libxml2 2.11.7, cssselect 1.2.0, parsel 1.8.1, w3lib 2.1.2, Twisted 23.10.0, Python 3.12.7 | packaged by Anaconda, Inc. | (main, Oct  4 2024, 13:17:27) [MSC v.1929 64 bit (AMD64)], pyOpenSSL 24.2.1 (OpenSSL 3.0.15 3 Sep 2024), cryptography 43.0.0, Platform Windows-11-10.0.26100-SP0\n"
     ]
    }
   ],
   "source": [
    "process = CrawlerProcess(settings={\n",
    "    'USER_AGENT': 'Mozilla/4.0',\n",
    "    'LOG_LEVEL':logging.INFO,\n",
    "    \"FEEDS\":{\n",
    "        \"src/\" + filename : {\"format\":\"json\"}\n",
    "    }\n",
    "}\n",
    "    \n",
    ")"
   ]
  },
  {
   "cell_type": "code",
   "execution_count": 5,
   "id": "dca7ef22-fd00-4d82-9cd4-d17156af1cbe",
   "metadata": {},
   "outputs": [
    {
     "name": "stderr",
     "output_type": "stream",
     "text": [
      "2025-02-24 10:00:20 [scrapy.addons] INFO: Enabled addons:\n",
      "[]\n",
      "2025-02-24 10:00:20 [py.warnings] WARNING: c:\\Users\\darla\\anaconda3\\Lib\\site-packages\\scrapy\\utils\\request.py:254: ScrapyDeprecationWarning: '2.6' is a deprecated value for the 'REQUEST_FINGERPRINTER_IMPLEMENTATION' setting.\n",
      "\n",
      "It is also the default value. In other words, it is normal to get this warning if you have not defined a value for the 'REQUEST_FINGERPRINTER_IMPLEMENTATION' setting. This is so for backward compatibility reasons, but it will change in a future version of Scrapy.\n",
      "\n",
      "See the documentation of the 'REQUEST_FINGERPRINTER_IMPLEMENTATION' setting for information on how to handle this deprecation.\n",
      "  return cls(crawler)\n",
      "\n",
      "2025-02-24 10:00:20 [scrapy.extensions.telnet] INFO: Telnet Password: 4850cbfab8b27686\n",
      "2025-02-24 10:00:20 [scrapy.middleware] INFO: Enabled extensions:\n",
      "['scrapy.extensions.corestats.CoreStats',\n",
      " 'scrapy.extensions.telnet.TelnetConsole',\n",
      " 'scrapy.extensions.feedexport.FeedExporter',\n",
      " 'scrapy.extensions.logstats.LogStats']\n",
      "2025-02-24 10:00:20 [scrapy.crawler] INFO: Overridden settings:\n",
      "{'LOG_LEVEL': 20, 'USER_AGENT': 'Mozilla/4.0'}\n",
      "2025-02-24 10:00:21 [scrapy.middleware] INFO: Enabled downloader middlewares:\n",
      "['scrapy.downloadermiddlewares.httpauth.HttpAuthMiddleware',\n",
      " 'scrapy.downloadermiddlewares.downloadtimeout.DownloadTimeoutMiddleware',\n",
      " 'scrapy.downloadermiddlewares.defaultheaders.DefaultHeadersMiddleware',\n",
      " 'scrapy.downloadermiddlewares.useragent.UserAgentMiddleware',\n",
      " 'scrapy.downloadermiddlewares.retry.RetryMiddleware',\n",
      " 'scrapy.downloadermiddlewares.redirect.MetaRefreshMiddleware',\n",
      " 'scrapy.downloadermiddlewares.httpcompression.HttpCompressionMiddleware',\n",
      " 'scrapy.downloadermiddlewares.redirect.RedirectMiddleware',\n",
      " 'scrapy.downloadermiddlewares.cookies.CookiesMiddleware',\n",
      " 'scrapy.downloadermiddlewares.httpproxy.HttpProxyMiddleware',\n",
      " 'scrapy.downloadermiddlewares.stats.DownloaderStats']\n",
      "2025-02-24 10:00:21 [scrapy.middleware] INFO: Enabled spider middlewares:\n",
      "['scrapy.spidermiddlewares.httperror.HttpErrorMiddleware',\n",
      " 'scrapy.spidermiddlewares.offsite.OffsiteMiddleware',\n",
      " 'scrapy.spidermiddlewares.referer.RefererMiddleware',\n",
      " 'scrapy.spidermiddlewares.urllength.UrlLengthMiddleware',\n",
      " 'scrapy.spidermiddlewares.depth.DepthMiddleware']\n",
      "2025-02-24 10:00:21 [scrapy.middleware] INFO: Enabled item pipelines:\n",
      "[]\n",
      "2025-02-24 10:00:21 [scrapy.core.engine] INFO: Spider opened\n",
      "2025-02-24 10:00:21 [scrapy.extensions.logstats] INFO: Crawled 0 pages (at 0 pages/min), scraped 0 items (at 0 items/min)\n",
      "2025-02-24 10:00:21 [scrapy.extensions.telnet] INFO: Telnet console listening on 127.0.0.1:6023\n",
      "2025-02-24 10:00:22 [root] INFO: OOOOOOOOOO  25 OOOOOOOOOOOOOO\n",
      "2025-02-24 10:00:22 [scrapy.core.engine] INFO: Closing spider (finished)\n",
      "2025-02-24 10:00:22 [scrapy.extensions.feedexport] INFO: Stored json feed (25 items) in: src/films.json\n",
      "2025-02-24 10:00:22 [scrapy.statscollectors] INFO: Dumping Scrapy stats:\n",
      "{'downloader/request_bytes': 417,\n",
      " 'downloader/request_count': 2,\n",
      " 'downloader/request_method_count/GET': 2,\n",
      " 'downloader/response_bytes': 298652,\n",
      " 'downloader/response_count': 2,\n",
      " 'downloader/response_status_count/200': 1,\n",
      " 'downloader/response_status_count/308': 1,\n",
      " 'elapsed_time_seconds': 1.55852,\n",
      " 'feedexport/success_count/FileFeedStorage': 1,\n",
      " 'finish_reason': 'finished',\n",
      " 'finish_time': datetime.datetime(2025, 2, 24, 9, 0, 22, 807803, tzinfo=datetime.timezone.utc),\n",
      " 'httpcompression/response_bytes': 1584396,\n",
      " 'httpcompression/response_count': 1,\n",
      " 'item_scraped_count': 25,\n",
      " 'log_count/INFO': 12,\n",
      " 'log_count/WARNING': 1,\n",
      " 'response_received_count': 1,\n",
      " 'scheduler/dequeued': 2,\n",
      " 'scheduler/dequeued/memory': 2,\n",
      " 'scheduler/enqueued': 2,\n",
      " 'scheduler/enqueued/memory': 2,\n",
      " 'start_time': datetime.datetime(2025, 2, 24, 9, 0, 21, 249283, tzinfo=datetime.timezone.utc)}\n",
      "2025-02-24 10:00:22 [scrapy.core.engine] INFO: Spider closed (finished)\n"
     ]
    }
   ],
   "source": [
    "process.crawl(imdb_spider)\n",
    "process.start()"
   ]
  },
  {
   "cell_type": "code",
   "execution_count": 6,
   "id": "71c3ff41-2af6-43a4-b5bb-04de6dcf7c3e",
   "metadata": {},
   "outputs": [
    {
     "data": {
      "text/html": [
       "<div>\n",
       "<style scoped>\n",
       "    .dataframe tbody tr th:only-of-type {\n",
       "        vertical-align: middle;\n",
       "    }\n",
       "\n",
       "    .dataframe tbody tr th {\n",
       "        vertical-align: top;\n",
       "    }\n",
       "\n",
       "    .dataframe thead th {\n",
       "        text-align: right;\n",
       "    }\n",
       "</style>\n",
       "<table border=\"1\" class=\"dataframe\">\n",
       "  <thead>\n",
       "    <tr style=\"text-align: right;\">\n",
       "      <th></th>\n",
       "      <th>ranking</th>\n",
       "      <th>title</th>\n",
       "      <th>url</th>\n",
       "      <th>rating</th>\n",
       "      <th>nb_vote</th>\n",
       "    </tr>\n",
       "  </thead>\n",
       "  <tbody>\n",
       "    <tr>\n",
       "      <th>0</th>\n",
       "      <td>1</td>\n",
       "      <td>The Shawshank Redemption</td>\n",
       "      <td>/title/tt0111161/?ref_=chttp_t_1</td>\n",
       "      <td>9.3</td>\n",
       "      <td>3M</td>\n",
       "    </tr>\n",
       "    <tr>\n",
       "      <th>1</th>\n",
       "      <td>2</td>\n",
       "      <td>The Godfather</td>\n",
       "      <td>/title/tt0068646/?ref_=chttp_t_2</td>\n",
       "      <td>9.2</td>\n",
       "      <td>2.1M</td>\n",
       "    </tr>\n",
       "    <tr>\n",
       "      <th>2</th>\n",
       "      <td>3</td>\n",
       "      <td>The Dark Knight</td>\n",
       "      <td>/title/tt0468569/?ref_=chttp_t_3</td>\n",
       "      <td>9.0</td>\n",
       "      <td>3M</td>\n",
       "    </tr>\n",
       "    <tr>\n",
       "      <th>3</th>\n",
       "      <td>4</td>\n",
       "      <td>The Godfather Part II</td>\n",
       "      <td>/title/tt0071562/?ref_=chttp_t_4</td>\n",
       "      <td>9.0</td>\n",
       "      <td>1.4M</td>\n",
       "    </tr>\n",
       "    <tr>\n",
       "      <th>4</th>\n",
       "      <td>5</td>\n",
       "      <td>12 Angry Men</td>\n",
       "      <td>/title/tt0050083/?ref_=chttp_t_5</td>\n",
       "      <td>9.0</td>\n",
       "      <td>913K</td>\n",
       "    </tr>\n",
       "    <tr>\n",
       "      <th>5</th>\n",
       "      <td>6</td>\n",
       "      <td>The Lord of the Rings: The Return of the King</td>\n",
       "      <td>/title/tt0167260/?ref_=chttp_t_6</td>\n",
       "      <td>9.0</td>\n",
       "      <td>2.1M</td>\n",
       "    </tr>\n",
       "    <tr>\n",
       "      <th>6</th>\n",
       "      <td>7</td>\n",
       "      <td>Schindler's List</td>\n",
       "      <td>/title/tt0108052/?ref_=chttp_t_7</td>\n",
       "      <td>9.0</td>\n",
       "      <td>1.5M</td>\n",
       "    </tr>\n",
       "    <tr>\n",
       "      <th>7</th>\n",
       "      <td>8</td>\n",
       "      <td>Pulp Fiction</td>\n",
       "      <td>/title/tt0110912/?ref_=chttp_t_8</td>\n",
       "      <td>8.9</td>\n",
       "      <td>2.3M</td>\n",
       "    </tr>\n",
       "    <tr>\n",
       "      <th>8</th>\n",
       "      <td>9</td>\n",
       "      <td>The Lord of the Rings: The Fellowship of the Ring</td>\n",
       "      <td>/title/tt0120737/?ref_=chttp_t_9</td>\n",
       "      <td>8.9</td>\n",
       "      <td>2.1M</td>\n",
       "    </tr>\n",
       "    <tr>\n",
       "      <th>9</th>\n",
       "      <td>10</td>\n",
       "      <td>The Good, the Bad and the Ugly</td>\n",
       "      <td>/title/tt0060196/?ref_=chttp_t_10</td>\n",
       "      <td>8.8</td>\n",
       "      <td>845K</td>\n",
       "    </tr>\n",
       "    <tr>\n",
       "      <th>10</th>\n",
       "      <td>11</td>\n",
       "      <td>Forrest Gump</td>\n",
       "      <td>/title/tt0109830/?ref_=chttp_t_11</td>\n",
       "      <td>8.8</td>\n",
       "      <td>2.4M</td>\n",
       "    </tr>\n",
       "    <tr>\n",
       "      <th>11</th>\n",
       "      <td>12</td>\n",
       "      <td>The Lord of the Rings: The Two Towers</td>\n",
       "      <td>/title/tt0167261/?ref_=chttp_t_12</td>\n",
       "      <td>8.8</td>\n",
       "      <td>1.9M</td>\n",
       "    </tr>\n",
       "    <tr>\n",
       "      <th>12</th>\n",
       "      <td>13</td>\n",
       "      <td>Fight Club</td>\n",
       "      <td>/title/tt0137523/?ref_=chttp_t_13</td>\n",
       "      <td>8.8</td>\n",
       "      <td>2.4M</td>\n",
       "    </tr>\n",
       "    <tr>\n",
       "      <th>13</th>\n",
       "      <td>14</td>\n",
       "      <td>Inception</td>\n",
       "      <td>/title/tt1375666/?ref_=chttp_t_14</td>\n",
       "      <td>8.8</td>\n",
       "      <td>2.7M</td>\n",
       "    </tr>\n",
       "    <tr>\n",
       "      <th>14</th>\n",
       "      <td>15</td>\n",
       "      <td>Star Wars: Episode V - The Empire Strikes Back</td>\n",
       "      <td>/title/tt0080684/?ref_=chttp_t_15</td>\n",
       "      <td>8.7</td>\n",
       "      <td>1.4M</td>\n",
       "    </tr>\n",
       "    <tr>\n",
       "      <th>15</th>\n",
       "      <td>16</td>\n",
       "      <td>The Matrix</td>\n",
       "      <td>/title/tt0133093/?ref_=chttp_t_16</td>\n",
       "      <td>8.7</td>\n",
       "      <td>2.1M</td>\n",
       "    </tr>\n",
       "    <tr>\n",
       "      <th>16</th>\n",
       "      <td>17</td>\n",
       "      <td>Goodfellas</td>\n",
       "      <td>/title/tt0099685/?ref_=chttp_t_17</td>\n",
       "      <td>8.7</td>\n",
       "      <td>1.3M</td>\n",
       "    </tr>\n",
       "    <tr>\n",
       "      <th>17</th>\n",
       "      <td>18</td>\n",
       "      <td>One Flew Over the Cuckoo's Nest</td>\n",
       "      <td>/title/tt0073486/?ref_=chttp_t_18</td>\n",
       "      <td>8.7</td>\n",
       "      <td>1.1M</td>\n",
       "    </tr>\n",
       "    <tr>\n",
       "      <th>18</th>\n",
       "      <td>19</td>\n",
       "      <td>Interstellar</td>\n",
       "      <td>/title/tt0816692/?ref_=chttp_t_19</td>\n",
       "      <td>8.7</td>\n",
       "      <td>2.3M</td>\n",
       "    </tr>\n",
       "    <tr>\n",
       "      <th>19</th>\n",
       "      <td>20</td>\n",
       "      <td>Se7en</td>\n",
       "      <td>/title/tt0114369/?ref_=chttp_t_20</td>\n",
       "      <td>8.6</td>\n",
       "      <td>1.9M</td>\n",
       "    </tr>\n",
       "    <tr>\n",
       "      <th>20</th>\n",
       "      <td>21</td>\n",
       "      <td>It's a Wonderful Life</td>\n",
       "      <td>/title/tt0038650/?ref_=chttp_t_21</td>\n",
       "      <td>8.6</td>\n",
       "      <td>524K</td>\n",
       "    </tr>\n",
       "    <tr>\n",
       "      <th>21</th>\n",
       "      <td>22</td>\n",
       "      <td>Seven Samurai</td>\n",
       "      <td>/title/tt0047478/?ref_=chttp_t_22</td>\n",
       "      <td>8.6</td>\n",
       "      <td>381K</td>\n",
       "    </tr>\n",
       "    <tr>\n",
       "      <th>22</th>\n",
       "      <td>23</td>\n",
       "      <td>The Silence of the Lambs</td>\n",
       "      <td>/title/tt0102926/?ref_=chttp_t_23</td>\n",
       "      <td>8.6</td>\n",
       "      <td>1.6M</td>\n",
       "    </tr>\n",
       "    <tr>\n",
       "      <th>23</th>\n",
       "      <td>24</td>\n",
       "      <td>Saving Private Ryan</td>\n",
       "      <td>/title/tt0120815/?ref_=chttp_t_24</td>\n",
       "      <td>8.6</td>\n",
       "      <td>1.6M</td>\n",
       "    </tr>\n",
       "    <tr>\n",
       "      <th>24</th>\n",
       "      <td>25</td>\n",
       "      <td>City of God</td>\n",
       "      <td>/title/tt0317248/?ref_=chttp_t_25</td>\n",
       "      <td>8.6</td>\n",
       "      <td>830K</td>\n",
       "    </tr>\n",
       "  </tbody>\n",
       "</table>\n",
       "</div>"
      ],
      "text/plain": [
       "    ranking                                              title  \\\n",
       "0         1                           The Shawshank Redemption   \n",
       "1         2                                      The Godfather   \n",
       "2         3                                    The Dark Knight   \n",
       "3         4                              The Godfather Part II   \n",
       "4         5                                       12 Angry Men   \n",
       "5         6      The Lord of the Rings: The Return of the King   \n",
       "6         7                                   Schindler's List   \n",
       "7         8                                       Pulp Fiction   \n",
       "8         9  The Lord of the Rings: The Fellowship of the Ring   \n",
       "9        10                     The Good, the Bad and the Ugly   \n",
       "10       11                                       Forrest Gump   \n",
       "11       12              The Lord of the Rings: The Two Towers   \n",
       "12       13                                         Fight Club   \n",
       "13       14                                          Inception   \n",
       "14       15     Star Wars: Episode V - The Empire Strikes Back   \n",
       "15       16                                         The Matrix   \n",
       "16       17                                         Goodfellas   \n",
       "17       18                    One Flew Over the Cuckoo's Nest   \n",
       "18       19                                       Interstellar   \n",
       "19       20                                              Se7en   \n",
       "20       21                              It's a Wonderful Life   \n",
       "21       22                                      Seven Samurai   \n",
       "22       23                           The Silence of the Lambs   \n",
       "23       24                                Saving Private Ryan   \n",
       "24       25                                        City of God   \n",
       "\n",
       "                                  url  rating nb_vote  \n",
       "0    /title/tt0111161/?ref_=chttp_t_1     9.3      3M  \n",
       "1    /title/tt0068646/?ref_=chttp_t_2     9.2    2.1M  \n",
       "2    /title/tt0468569/?ref_=chttp_t_3     9.0      3M  \n",
       "3    /title/tt0071562/?ref_=chttp_t_4     9.0    1.4M  \n",
       "4    /title/tt0050083/?ref_=chttp_t_5     9.0    913K  \n",
       "5    /title/tt0167260/?ref_=chttp_t_6     9.0    2.1M  \n",
       "6    /title/tt0108052/?ref_=chttp_t_7     9.0    1.5M  \n",
       "7    /title/tt0110912/?ref_=chttp_t_8     8.9    2.3M  \n",
       "8    /title/tt0120737/?ref_=chttp_t_9     8.9    2.1M  \n",
       "9   /title/tt0060196/?ref_=chttp_t_10     8.8    845K  \n",
       "10  /title/tt0109830/?ref_=chttp_t_11     8.8    2.4M  \n",
       "11  /title/tt0167261/?ref_=chttp_t_12     8.8    1.9M  \n",
       "12  /title/tt0137523/?ref_=chttp_t_13     8.8    2.4M  \n",
       "13  /title/tt1375666/?ref_=chttp_t_14     8.8    2.7M  \n",
       "14  /title/tt0080684/?ref_=chttp_t_15     8.7    1.4M  \n",
       "15  /title/tt0133093/?ref_=chttp_t_16     8.7    2.1M  \n",
       "16  /title/tt0099685/?ref_=chttp_t_17     8.7    1.3M  \n",
       "17  /title/tt0073486/?ref_=chttp_t_18     8.7    1.1M  \n",
       "18  /title/tt0816692/?ref_=chttp_t_19     8.7    2.3M  \n",
       "19  /title/tt0114369/?ref_=chttp_t_20     8.6    1.9M  \n",
       "20  /title/tt0038650/?ref_=chttp_t_21     8.6    524K  \n",
       "21  /title/tt0047478/?ref_=chttp_t_22     8.6    381K  \n",
       "22  /title/tt0102926/?ref_=chttp_t_23     8.6    1.6M  \n",
       "23  /title/tt0120815/?ref_=chttp_t_24     8.6    1.6M  \n",
       "24  /title/tt0317248/?ref_=chttp_t_25     8.6    830K  "
      ]
     },
     "execution_count": 6,
     "metadata": {},
     "output_type": "execute_result"
    }
   ],
   "source": [
    "pd.read_json(\"src/\" + filename)"
   ]
  },
  {
   "cell_type": "code",
   "execution_count": 7,
   "id": "d5de0d88-ed1f-45af-b65c-3fdb785efd7a",
   "metadata": {},
   "outputs": [],
   "source": [
    "prob_titre = \"1. The Shawshank Redemption\""
   ]
  },
  {
   "cell_type": "code",
   "execution_count": 8,
   "id": "160c1e3a-7bef-4cdb-8adc-06628225a424",
   "metadata": {},
   "outputs": [
    {
     "data": {
      "text/plain": [
       "'The Shawshank Redemption'"
      ]
     },
     "execution_count": 8,
     "metadata": {},
     "output_type": "execute_result"
    }
   ],
   "source": [
    "prob_titre[3:]"
   ]
  },
  {
   "cell_type": "code",
   "execution_count": 9,
   "id": "1bbe13c9-12d4-4cde-be03-ea30c10197e9",
   "metadata": {},
   "outputs": [
    {
     "data": {
      "text/plain": [
       "' City of God'"
      ]
     },
     "execution_count": 9,
     "metadata": {},
     "output_type": "execute_result"
    }
   ],
   "source": [
    "prob_titre_25 = \"25. City of God\"\n",
    "prob_titre_25[3:]"
   ]
  },
  {
   "cell_type": "code",
   "execution_count": 10,
   "id": "1778ac07-cfd2-4882-982b-7ecc4f52d698",
   "metadata": {},
   "outputs": [
    {
     "data": {
      "text/plain": [
       "'1. The Shawshank Redemption'"
      ]
     },
     "execution_count": 10,
     "metadata": {},
     "output_type": "execute_result"
    }
   ],
   "source": [
    "prob_titre"
   ]
  },
  {
   "cell_type": "code",
   "execution_count": 11,
   "id": "b846494e-025d-43b3-8462-38d914ef51db",
   "metadata": {},
   "outputs": [],
   "source": [
    "numero, nom_de_film = prob_titre.split(\" \", maxsplit=1)"
   ]
  },
  {
   "cell_type": "code",
   "execution_count": 12,
   "id": "13918fda-66e0-4634-839f-91b28cfaabd7",
   "metadata": {},
   "outputs": [
    {
     "data": {
      "text/plain": [
       "'1'"
      ]
     },
     "execution_count": 12,
     "metadata": {},
     "output_type": "execute_result"
    }
   ],
   "source": [
    "numero[:-1]"
   ]
  },
  {
   "cell_type": "code",
   "execution_count": 13,
   "id": "aa2448dd-9bed-4ea7-8f67-d355bf63eaf6",
   "metadata": {},
   "outputs": [
    {
     "data": {
      "text/plain": [
       "'The Shawshank Redemption'"
      ]
     },
     "execution_count": 13,
     "metadata": {},
     "output_type": "execute_result"
    }
   ],
   "source": [
    "nom_de_film"
   ]
  },
  {
   "cell_type": "code",
   "execution_count": 14,
   "id": "3572cd07-56f5-4f00-9e17-5aaedb3a29a9",
   "metadata": {},
   "outputs": [
    {
     "data": {
      "text/plain": [
       "'1.'"
      ]
     },
     "execution_count": 14,
     "metadata": {},
     "output_type": "execute_result"
    }
   ],
   "source": [
    "numero"
   ]
  },
  {
   "cell_type": "code",
   "execution_count": 15,
   "id": "bde76e1d-95de-46e6-9f2d-fb51caf4b5eb",
   "metadata": {},
   "outputs": [
    {
     "data": {
      "text/plain": [
       "'The Shawshank Redemption'"
      ]
     },
     "execution_count": 15,
     "metadata": {},
     "output_type": "execute_result"
    }
   ],
   "source": [
    "nom_de_film"
   ]
  },
  {
   "cell_type": "code",
   "execution_count": 16,
   "id": "c1c60468-820e-4c2e-8c3f-6b38b564bad0",
   "metadata": {},
   "outputs": [],
   "source": [
    "base_url = \"https://www.imdb.com\"\n",
    "next_url = \"/title/tt0111161/?ref_=chttp_t_1\""
   ]
  },
  {
   "cell_type": "code",
   "execution_count": 17,
   "id": "f90e64ff-54c2-4919-a7dd-1c58277dd06d",
   "metadata": {},
   "outputs": [
    {
     "data": {
      "text/plain": [
       "'https://www.imdb.com/title/tt0111161/?ref_=chttp_t_1'"
      ]
     },
     "execution_count": 17,
     "metadata": {},
     "output_type": "execute_result"
    }
   ],
   "source": [
    "url_complete = base_url + next_url\n",
    "url_complete"
   ]
  },
  {
   "cell_type": "code",
   "execution_count": null,
   "id": "ff0b9bf3-9f7d-4b8d-91cc-6d84acc3c833",
   "metadata": {},
   "outputs": [],
   "source": []
  }
 ],
 "metadata": {
  "kernelspec": {
   "display_name": "base",
   "language": "python",
   "name": "python3"
  },
  "language_info": {
   "codemirror_mode": {
    "name": "ipython",
    "version": 3
   },
   "file_extension": ".py",
   "mimetype": "text/x-python",
   "name": "python",
   "nbconvert_exporter": "python",
   "pygments_lexer": "ipython3",
   "version": "3.12.7"
  }
 },
 "nbformat": 4,
 "nbformat_minor": 5
}
